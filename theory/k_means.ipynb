{
 "cells": [
  {
   "cell_type": "markdown",
   "metadata": {
    "collapsed": true,
    "pycharm": {
     "name": "#%% md\n"
    }
   },
   "source": [
    "# K Means\n",
    "\n",
    "---\n",
    "* [Implementation in Python](../pymlalgo/clustering/k_means.py)\n",
    "* [Demo](../demo/k_means_demo.ipynb)\n",
    "---\n",
    "\n",
    "### Symbols and Conventions\n",
    "\n",
    "Let's say there are $n$ training examples which can be grouped into $K$ clusters.\n",
    "* $n$ is the number of training examples\n",
    "* $d$ is the number of features in each training example (a.k.a the dimension of the training example)\n",
    "* $X$ is the features matrix of shape $n \\times d$\n",
    "* $x_i$ is one sample, a vector of length $d$\n",
    "* $K$ is the number of clusters\n",
    "* $n_k$ is the number of samples grouped in the $k^{th}$ cluster, $k \\in \\{1, 2, .., K\\}$\n",
    "* $\\mu$ is the matrix of all centroids, each centroid as a row, shape $K \\times d$\n",
    "* $\\mu_k$ is the mean of all samples (centroid) of the $k^{th}$ cluster, $k \\in \\{1, 2, .., K\\}$\n",
    "\n",
    "### Algorithm\n",
    "\n",
    "K-means works by finding the centroids for different groups of data. The algorithm works as:\n",
    "1. Input data $x_1, x_2, ...,x_n$ and $K$\n",
    "2. Randomly choose $K$ samples from $X$. This would be the first version of $\\mu$\n",
    "3. For each $x_i$, $i \\in \\{1,2,...,n\\}$, assign the cluster such that $||x_i - \\mu_k||_2^2$ is minimum\n",
    "4. While not converged\n",
    "    1. Compute mean of each cluster $\\frac{1}{n_k} \\sum_{i=1}^{n_k} x_i$\n",
    "    2. Update cluster of each sample according the the rule in step 2\n",
    "\n",
    "### Cost Function\n",
    "The cost function (objective function) of K means is given as:\n",
    "$$F(\\mu) = \\sum_{k=1}^{K} \\sum_{i=1}^{n_k} ||x_i - \\mu_k||_2^2$$\n",
    "\n",
    "\n",
    "### $K$-means ++\n",
    "\n",
    "On many occasions, randomly choosing the the centroids doesn't converge to the global minimum. Thus the first set of centroids are chosen according to the following algorithm\n",
    "\n",
    "1. Randomly choose one sample from $X$ as one centroid, i.e. $\\mu_1$\n",
    "2. Calculate euclidean distance $D(x_i) = ||\\mu_1 - x_i||_2$ of remaining $n - 1$ samples from the chosen centroid\n",
    "3. Choose the next centroid having the highest probability calculated as\n",
    "$$\\frac{D(x_i)^2}{\\sum_{i=1}^{n-k} D(x_i)^2}$$\n",
    "4. Repeat $2^{\\dagger}$ and 3 until $K$ clusters have been chosen\n",
    "\n",
    "$\\dagger$ Remove the $x_i$ from $X$ which has been chosen as $\\mu_k$ for each $k$"
   ]
  }
 ],
 "metadata": {
  "kernelspec": {
   "display_name": "Python 3",
   "language": "python",
   "name": "python3"
  },
  "language_info": {
   "codemirror_mode": {
    "name": "ipython",
    "version": 3
   },
   "file_extension": ".py",
   "mimetype": "text/x-python",
   "name": "python",
   "nbconvert_exporter": "python",
   "pygments_lexer": "ipython3",
   "version": "3.7.3"
  },
  "pycharm": {
   "stem_cell": {
    "cell_type": "raw",
    "metadata": {
     "collapsed": false
    },
    "source": []
   }
  }
 },
 "nbformat": 4,
 "nbformat_minor": 1
}
