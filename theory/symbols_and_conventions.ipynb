{
 "cells": [
  {
   "cell_type": "markdown",
   "metadata": {},
   "source": [
    "# Symbols and Conventions\n",
    "*This page lists the symbols, notations and conventions used in this project*\n",
    "***\n",
    "Let's say there are $n$ training examples, and the predictors of each example is represented by a vector $x_i$ whose length is equal to the number of features in the training example, $d$. Each label is a scalar represented by $y_i$.\n",
    "\n",
    "The matrix of the predictor variables is represented by $X$ whose shape is $n \\times d$ in which each row is one training example. The labels are represented by a matrix of shape $n \\times 1$ in which each row is a scalar and the label corresponding to the training example.\n",
    "\n",
    "The weight of each feature in the prediction of the label is represented by $w_j$ where $j \\in \\{1,2,3,...,d\\}$. The wight matrix is represented by $W$ of shape $d \\times 1$.\n",
    "\n",
    "$$X =  \\left[ \\begin{matrix} \n",
    "x_{11} & x_{12} & ... & x_{1j} & ... &x_{1d}  \\\\\n",
    "x_{21} & x_{22} & ... & x_{2j} & ... &x_{2d}  \\\\\n",
    "x_{31} & x_{32} & ... & x_{3j} & ... &x_{3d}  \\\\\n",
    "& &....... \\\\\n",
    "x_{i1} & x_{i2} & ... & x_{ij} & ... &x_{id}  \\\\\n",
    "& &....... \\\\\n",
    "x_{n1} & x_{12} & ... & x_{nj} & ... &x_{nd}  \\\\\n",
    "\\end{matrix} \\right]$$\n",
    "\n",
    "$$Y =  \\left[ \\begin{matrix} \n",
    "y_1 \\\\\n",
    "y_2 \\\\\n",
    "y_3 \\\\\n",
    ". \\\\\n",
    "y_i \\\\\n",
    ". \\\\\n",
    "y_n \\\\\n",
    "\\end{matrix} \\right]$$\n",
    "\n",
    "$$W =  \\left[ \\begin{matrix} \n",
    "w_1 \\\\\n",
    "w_2 \\\\\n",
    "w_3 \\\\\n",
    ". \\\\\n",
    "w_j \\\\\n",
    ". \\\\\n",
    "w_d \\\\\n",
    "\\end{matrix} \\right]$$\n",
    "\n",
    "$$i \\in \\{1,2,3,...,n\\} \\text{ and } j \\in \\{1,2,3,...,d\\}$$\n",
    "\n",
    "Regularization parameter is represented by $\\lambda$\n",
    "\n",
    "A generalized form of a linear model can be written as\n",
    "$$g(Y) = XW$$\n",
    "\n",
    "A generalized loss function can be written as \n",
    "$$\\mathcal{L}(y_i, \\hat{y_i}) = f(y_i, x_i W)$$\n",
    "\n",
    "A generalized cost function with regularization penalty can be written as\n",
    "$$F(W) = \\sum_{i=i}^n\\mathcal{L}(y_i, x_iW) + \\lambda \\Omega(W)$$\n",
    "\n",
    "\n",
    "## Implementation Notes\n",
    "In the python implementation using [numpy](https://www.numpy.org/), the shape of $X$ must be `(n, d)` and shape of $Y$ must be `(n, 1)`. If you pass $Y$ with a shape `(n,)`, it will automatically be converted to `(n, 1)` with a warning. The predictions, $\\hat{Y}$ would be of shape `(n, 1)`. The weight vector $W$ would be of shape `(d, 1)`"
   ]
  }
 ],
 "metadata": {
  "kernelspec": {
   "display_name": "Python 3",
   "language": "python",
   "name": "python3"
  },
  "language_info": {
   "codemirror_mode": {
    "name": "ipython",
    "version": 3
   },
   "file_extension": ".py",
   "mimetype": "text/x-python",
   "name": "python",
   "nbconvert_exporter": "python",
   "pygments_lexer": "ipython3",
   "version": "3.6.8"
  }
 },
 "nbformat": 4,
 "nbformat_minor": 2
}
